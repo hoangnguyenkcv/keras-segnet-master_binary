{
 "cells": [
  {
   "cell_type": "code",
   "execution_count": 1,
   "metadata": {
    "collapsed": false
   },
   "outputs": [
    {
     "name": "stderr",
     "output_type": "stream",
     "text": [
      "Using TensorFlow backend.\n"
     ]
    }
   ],
   "source": [
    "%matplotlib inline\n",
    "import numpy as np\n",
    "import pandas as pd\n",
    "import sys\n",
    "from skimage.io import imread\n",
    "from matplotlib import pyplot as plt\n",
    "import os\n",
    "# os.environ['KERAS_BACKEND'] = 'theano'\n",
    "from keras import models\n",
    "from keras.optimizers import SGD"
   ]
  },
  {
   "cell_type": "code",
   "execution_count": 2,
   "metadata": {
    "collapsed": true
   },
   "outputs": [],
   "source": [
    "path = 'Data/'\n",
    "img_w = 256\n",
    "img_h = 256\n",
    "n_labels = 2\n",
    "n_train = 6\n",
    "n_test = 3"
   ]
  },
  {
   "cell_type": "code",
   "execution_count": 3,
   "metadata": {
    "collapsed": true
   },
   "outputs": [],
   "source": [
    "def label_map(labels):\n",
    "    label_map = np.zeros([img_h, img_w, n_labels])    \n",
    "    for r in range(img_h):\n",
    "        for c in range(img_w):\n",
    "            label_map[r, c, labels[r][c]] = 1\n",
    "    return label_map"
   ]
  },
  {
   "cell_type": "code",
   "execution_count": 4,
   "metadata": {
    "collapsed": false
   },
   "outputs": [],
   "source": [
    "def prep_data(mode):\n",
    "    assert mode in {'test', 'train'}, \\\n",
    "        'mode should be either \\'test\\' or \\'train\\''\n",
    "    data = []\n",
    "    label = []\n",
    "    df = pd.read_csv(path + mode + '.csv')\n",
    "    n = n_train if mode == 'train' else n_test\n",
    "    for i, item in df.iterrows():\n",
    "        if i >= n:\n",
    "            break\n",
    "        img, gt = [imread(path + item[0])], np.clip(imread(path + item[1]), 0, 1)\n",
    "        data.append(img)\n",
    "        label.append(label_map(gt))\n",
    "        sys.stdout.write('\\r')\n",
    "        sys.stdout.write(mode + \": [%-20s] %d%%\" % ('=' * int(20. * (i + 1) / n - 1) + '>',\n",
    "                                                    int(100. * (i + 1) / n)))\n",
    "        sys.stdout.flush()\n",
    "    sys.stdout.write('\\r')\n",
    "    sys.stdout.flush()\n",
    "    data, label = np.array(data), np.array(label).reshape((n, img_h * img_w, n_labels))\n",
    "\n",
    "    print(mode + ': OK')\n",
    "    print('\\tshapes: {}, {}'.format(data.shape, label.shape))\n",
    "    print('\\ttypes:  {}, {}'.format(data.dtype, label.dtype))\n",
    "    print('\\tmemory: {}, {} MB'.format(data.nbytes / 1048576, label.nbytes / 1048576))\n",
    "    \n",
    "    data = data.transpose((0,2,3,1))\n",
    "    return data, label"
   ]
  },
  {
   "cell_type": "code",
   "execution_count": 5,
   "metadata": {
    "collapsed": true
   },
   "outputs": [],
   "source": [
    "def plot_results(output):\n",
    "    gt = []\n",
    "    df = pd.read_csv(path + 'test.csv')\n",
    "    for i, item in df.iterrows():\n",
    "        gt.append(np.clip(imread(path + item[1]), 0, 1))\n",
    "\n",
    "    plt.figure(figsize=(15, 2 * n_test))\n",
    "    for i, item in df.iterrows():\n",
    "        plt.subplot(n_test, 4, 4 * i + 1)\n",
    "        plt.title('Ground Truth')\n",
    "        plt.axis('off')\n",
    "        gt = imread(path + item[1])\n",
    "        plt.imshow(np.clip(gt, 0, 1))\n",
    "\n",
    "        plt.subplot(n_test, 4, 4 * i + 2)\n",
    "        plt.title('Prediction')\n",
    "        plt.axis('off')\n",
    "        labeled = np.argmax(output[i], axis=-1)\n",
    "        plt.imshow(labeled)\n",
    "\n",
    "        plt.subplot(n_test, 4, 4 * i + 3)\n",
    "        plt.title('Heat map')\n",
    "        plt.axis('off')\n",
    "        plt.imshow(output[i][:, :, 1])\n",
    "\n",
    "        plt.subplot(n_test, 4, 4 * i + 4)\n",
    "        plt.title('Comparison')\n",
    "        plt.axis('off')\n",
    "        rgb = np.empty((img_h, img_w, 3))\n",
    "        rgb[:, :, 0] = labeled\n",
    "        rgb[:, :, 1] = imread(path + item[0])\n",
    "        rgb[:, :, 2] = gt\n",
    "        plt.imshow(rgb)\n",
    "\n",
    "    plt.savefig('result.png')\n",
    "    plt.show()"
   ]
  },
  {
   "cell_type": "code",
   "execution_count": 6,
   "metadata": {
    "collapsed": true
   },
   "outputs": [],
   "source": [
    "with open('model_5l.json') as model_file:\n",
    "    autoencoder = models.model_from_json(model_file.read())\n",
    "    "
   ]
  },
  {
   "cell_type": "code",
   "execution_count": 7,
   "metadata": {
    "collapsed": false
   },
   "outputs": [
    {
     "name": "stdout",
     "output_type": "stream",
     "text": [
      "_________________________________________________________________\n",
      "Layer (type)                 Output Shape              Param #   \n",
      "=================================================================\n",
      "conv2d_1 (Conv2D)            (None, 256, 256, 64)      640       \n",
      "_________________________________________________________________\n",
      "batch_normalization_1 (Batch (None, 256, 256, 64)      256       \n",
      "_________________________________________________________________\n",
      "activation_1 (Activation)    (None, 256, 256, 64)      0         \n",
      "_________________________________________________________________\n",
      "conv2d_2 (Conv2D)            (None, 256, 256, 64)      36928     \n",
      "_________________________________________________________________\n",
      "batch_normalization_2 (Batch (None, 256, 256, 64)      256       \n",
      "_________________________________________________________________\n",
      "activation_2 (Activation)    (None, 256, 256, 64)      0         \n",
      "_________________________________________________________________\n",
      "max_pooling2d_1 (MaxPooling2 (None, 128, 128, 64)      0         \n",
      "_________________________________________________________________\n",
      "conv2d_3 (Conv2D)            (None, 128, 128, 128)     73856     \n",
      "_________________________________________________________________\n",
      "batch_normalization_3 (Batch (None, 128, 128, 128)     512       \n",
      "_________________________________________________________________\n",
      "activation_3 (Activation)    (None, 128, 128, 128)     0         \n",
      "_________________________________________________________________\n",
      "conv2d_4 (Conv2D)            (None, 128, 128, 128)     147584    \n",
      "_________________________________________________________________\n",
      "batch_normalization_4 (Batch (None, 128, 128, 128)     512       \n",
      "_________________________________________________________________\n",
      "activation_4 (Activation)    (None, 128, 128, 128)     0         \n",
      "_________________________________________________________________\n",
      "max_pooling2d_2 (MaxPooling2 (None, 64, 64, 128)       0         \n",
      "_________________________________________________________________\n",
      "conv2d_5 (Conv2D)            (None, 64, 64, 256)       295168    \n",
      "_________________________________________________________________\n",
      "batch_normalization_5 (Batch (None, 64, 64, 256)       1024      \n",
      "_________________________________________________________________\n",
      "activation_5 (Activation)    (None, 64, 64, 256)       0         \n",
      "_________________________________________________________________\n",
      "conv2d_6 (Conv2D)            (None, 64, 64, 256)       590080    \n",
      "_________________________________________________________________\n",
      "batch_normalization_6 (Batch (None, 64, 64, 256)       1024      \n",
      "_________________________________________________________________\n",
      "activation_6 (Activation)    (None, 64, 64, 256)       0         \n",
      "_________________________________________________________________\n",
      "conv2d_7 (Conv2D)            (None, 64, 64, 256)       590080    \n",
      "_________________________________________________________________\n",
      "batch_normalization_7 (Batch (None, 64, 64, 256)       1024      \n",
      "_________________________________________________________________\n",
      "activation_7 (Activation)    (None, 64, 64, 256)       0         \n",
      "_________________________________________________________________\n",
      "max_pooling2d_3 (MaxPooling2 (None, 32, 32, 256)       0         \n",
      "_________________________________________________________________\n",
      "conv2d_8 (Conv2D)            (None, 32, 32, 512)       1180160   \n",
      "_________________________________________________________________\n",
      "batch_normalization_8 (Batch (None, 32, 32, 512)       2048      \n",
      "_________________________________________________________________\n",
      "activation_8 (Activation)    (None, 32, 32, 512)       0         \n",
      "_________________________________________________________________\n",
      "conv2d_9 (Conv2D)            (None, 32, 32, 512)       2359808   \n",
      "_________________________________________________________________\n",
      "batch_normalization_9 (Batch (None, 32, 32, 512)       2048      \n",
      "_________________________________________________________________\n",
      "activation_9 (Activation)    (None, 32, 32, 512)       0         \n",
      "_________________________________________________________________\n",
      "conv2d_10 (Conv2D)           (None, 32, 32, 512)       2359808   \n",
      "_________________________________________________________________\n",
      "batch_normalization_10 (Batc (None, 32, 32, 512)       2048      \n",
      "_________________________________________________________________\n",
      "activation_10 (Activation)   (None, 32, 32, 512)       0         \n",
      "_________________________________________________________________\n",
      "max_pooling2d_4 (MaxPooling2 (None, 16, 16, 512)       0         \n",
      "_________________________________________________________________\n",
      "conv2d_11 (Conv2D)           (None, 16, 16, 512)       2359808   \n",
      "_________________________________________________________________\n",
      "batch_normalization_11 (Batc (None, 16, 16, 512)       2048      \n",
      "_________________________________________________________________\n",
      "activation_11 (Activation)   (None, 16, 16, 512)       0         \n",
      "_________________________________________________________________\n",
      "conv2d_12 (Conv2D)           (None, 16, 16, 512)       2359808   \n",
      "_________________________________________________________________\n",
      "batch_normalization_12 (Batc (None, 16, 16, 512)       2048      \n",
      "_________________________________________________________________\n",
      "activation_12 (Activation)   (None, 16, 16, 512)       0         \n",
      "_________________________________________________________________\n",
      "conv2d_13 (Conv2D)           (None, 16, 16, 512)       2359808   \n",
      "_________________________________________________________________\n",
      "batch_normalization_13 (Batc (None, 16, 16, 512)       2048      \n",
      "_________________________________________________________________\n",
      "activation_13 (Activation)   (None, 16, 16, 512)       0         \n",
      "_________________________________________________________________\n",
      "max_pooling2d_5 (MaxPooling2 (None, 8, 8, 512)         0         \n",
      "_________________________________________________________________\n",
      "up_sampling2d_1 (UpSampling2 (None, 16, 16, 512)       0         \n",
      "_________________________________________________________________\n",
      "conv2d_14 (Conv2D)           (None, 16, 16, 512)       2359808   \n",
      "_________________________________________________________________\n",
      "batch_normalization_14 (Batc (None, 16, 16, 512)       2048      \n",
      "_________________________________________________________________\n",
      "activation_14 (Activation)   (None, 16, 16, 512)       0         \n",
      "_________________________________________________________________\n",
      "conv2d_15 (Conv2D)           (None, 16, 16, 512)       2359808   \n",
      "_________________________________________________________________\n",
      "batch_normalization_15 (Batc (None, 16, 16, 512)       2048      \n",
      "_________________________________________________________________\n",
      "activation_15 (Activation)   (None, 16, 16, 512)       0         \n",
      "_________________________________________________________________\n",
      "conv2d_16 (Conv2D)           (None, 16, 16, 512)       2359808   \n",
      "_________________________________________________________________\n",
      "batch_normalization_16 (Batc (None, 16, 16, 512)       2048      \n",
      "_________________________________________________________________\n",
      "activation_16 (Activation)   (None, 16, 16, 512)       0         \n",
      "_________________________________________________________________\n",
      "up_sampling2d_2 (UpSampling2 (None, 32, 32, 512)       0         \n",
      "_________________________________________________________________\n",
      "conv2d_17 (Conv2D)           (None, 32, 32, 512)       2359808   \n",
      "_________________________________________________________________\n",
      "batch_normalization_17 (Batc (None, 32, 32, 512)       2048      \n",
      "_________________________________________________________________\n",
      "activation_17 (Activation)   (None, 32, 32, 512)       0         \n",
      "_________________________________________________________________\n",
      "conv2d_18 (Conv2D)           (None, 32, 32, 512)       2359808   \n",
      "_________________________________________________________________\n",
      "batch_normalization_18 (Batc (None, 32, 32, 512)       2048      \n",
      "_________________________________________________________________\n",
      "activation_18 (Activation)   (None, 32, 32, 512)       0         \n",
      "_________________________________________________________________\n",
      "conv2d_19 (Conv2D)           (None, 32, 32, 256)       1179904   \n",
      "_________________________________________________________________\n",
      "batch_normalization_19 (Batc (None, 32, 32, 256)       1024      \n",
      "_________________________________________________________________\n",
      "activation_19 (Activation)   (None, 32, 32, 256)       0         \n",
      "_________________________________________________________________\n",
      "up_sampling2d_3 (UpSampling2 (None, 64, 64, 256)       0         \n",
      "_________________________________________________________________\n",
      "conv2d_20 (Conv2D)           (None, 64, 64, 256)       590080    \n",
      "_________________________________________________________________\n",
      "batch_normalization_20 (Batc (None, 64, 64, 256)       1024      \n",
      "_________________________________________________________________\n",
      "activation_20 (Activation)   (None, 64, 64, 256)       0         \n",
      "_________________________________________________________________\n",
      "conv2d_21 (Conv2D)           (None, 64, 64, 256)       590080    \n",
      "_________________________________________________________________\n",
      "batch_normalization_21 (Batc (None, 64, 64, 256)       1024      \n",
      "_________________________________________________________________\n",
      "activation_21 (Activation)   (None, 64, 64, 256)       0         \n",
      "_________________________________________________________________\n",
      "conv2d_22 (Conv2D)           (None, 64, 64, 128)       295040    \n",
      "_________________________________________________________________\n",
      "batch_normalization_22 (Batc (None, 64, 64, 128)       512       \n",
      "_________________________________________________________________\n",
      "activation_22 (Activation)   (None, 64, 64, 128)       0         \n",
      "_________________________________________________________________\n",
      "up_sampling2d_4 (UpSampling2 (None, 128, 128, 128)     0         \n",
      "_________________________________________________________________\n",
      "conv2d_23 (Conv2D)           (None, 128, 128, 128)     147584    \n",
      "_________________________________________________________________\n",
      "batch_normalization_23 (Batc (None, 128, 128, 128)     512       \n",
      "_________________________________________________________________\n",
      "activation_23 (Activation)   (None, 128, 128, 128)     0         \n",
      "_________________________________________________________________\n",
      "conv2d_24 (Conv2D)           (None, 128, 128, 64)      73792     \n",
      "_________________________________________________________________\n",
      "batch_normalization_24 (Batc (None, 128, 128, 64)      256       \n",
      "_________________________________________________________________\n",
      "activation_24 (Activation)   (None, 128, 128, 64)      0         \n",
      "_________________________________________________________________\n",
      "up_sampling2d_5 (UpSampling2 (None, 256, 256, 64)      0         \n",
      "_________________________________________________________________\n",
      "conv2d_25 (Conv2D)           (None, 256, 256, 64)      36928     \n",
      "_________________________________________________________________\n",
      "batch_normalization_25 (Batc (None, 256, 256, 64)      256       \n",
      "_________________________________________________________________\n",
      "activation_25 (Activation)   (None, 256, 256, 64)      0         \n",
      "_________________________________________________________________\n",
      "conv2d_26 (Conv2D)           (None, 256, 256, 2)       130       \n",
      "_________________________________________________________________\n",
      "batch_normalization_26 (Batc (None, 256, 256, 2)       8         \n",
      "_________________________________________________________________\n",
      "reshape_1 (Reshape)          (None, 2, 65536)          0         \n",
      "_________________________________________________________________\n",
      "permute_1 (Permute)          (None, 65536, 2)          0         \n",
      "_________________________________________________________________\n",
      "activation_26 (Activation)   (None, 65536, 2)          0         \n",
      "=================================================================\n",
      "Total params: 29,457,866\n",
      "Trainable params: 29,441,990\n",
      "Non-trainable params: 15,876\n",
      "_________________________________________________________________\n"
     ]
    }
   ],
   "source": [
    "autoencoder.summary()"
   ]
  },
  {
   "cell_type": "code",
   "execution_count": 8,
   "metadata": {
    "collapsed": false,
    "scrolled": true
   },
   "outputs": [
    {
     "name": "stdout",
     "output_type": "stream",
     "text": [
      "Compiled: OK\n"
     ]
    }
   ],
   "source": [
    "optimizer = SGD(lr=0.001, momentum=0.9, decay=0.0005, nesterov=False)\n",
    "autoencoder.compile(loss=\"categorical_crossentropy\", optimizer=optimizer, metrics=['accuracy'])\n",
    "print('Compiled: OK')\n"
   ]
  },
  {
   "cell_type": "code",
   "execution_count": 9,
   "metadata": {
    "collapsed": false
   },
   "outputs": [
    {
     "name": "stdout",
     "output_type": "stream",
     "text": [
      "train: OK\n",
      "\tshapes: (6, 1, 256, 256), (6, 65536, 2)\n",
      "\ttypes:  uint8, float64\n",
      "\tmemory: 0.375, 6.0 MB\n"
     ]
    }
   ],
   "source": [
    "## loading  dataset\n",
    "train_data, train_label = prep_data('train')\n"
   ]
  },
  {
   "cell_type": "code",
   "execution_count": 10,
   "metadata": {
    "collapsed": false,
    "scrolled": true
   },
   "outputs": [
    {
     "name": "stderr",
     "output_type": "stream",
     "text": [
      "C:\\Users\\hoanganh\\Anaconda3\\lib\\site-packages\\keras\\models.py:942: UserWarning: The `nb_epoch` argument in `fit` has been renamed `epochs`.\n",
      "  warnings.warn('The `nb_epoch` argument in `fit` '\n"
     ]
    },
    {
     "name": "stdout",
     "output_type": "stream",
     "text": [
      "Epoch 1/50\n",
      " - 5s - loss: 0.9080 - acc: 0.4768\n",
      "Epoch 2/50\n",
      " - 0s - loss: 0.8564 - acc: 0.5017\n",
      "Epoch 3/50\n",
      " - 0s - loss: 0.8291 - acc: 0.5177\n",
      "Epoch 4/50\n",
      " - 0s - loss: 0.7823 - acc: 0.5405\n",
      "Epoch 5/50\n",
      " - 0s - loss: 0.7478 - acc: 0.5586\n",
      "Epoch 6/50\n",
      " - 0s - loss: 0.6964 - acc: 0.5938\n",
      "Epoch 7/50\n",
      " - 0s - loss: 0.6678 - acc: 0.6142\n",
      "Epoch 8/50\n",
      " - 0s - loss: 0.6313 - acc: 0.6499\n",
      "Epoch 9/50\n",
      " - 0s - loss: 0.6018 - acc: 0.6771\n",
      "Epoch 10/50\n",
      " - 0s - loss: 0.5932 - acc: 0.6865\n",
      "Epoch 11/50\n",
      " - 0s - loss: 0.5625 - acc: 0.7109\n",
      "Epoch 12/50\n",
      " - 0s - loss: 0.5324 - acc: 0.7380\n",
      "Epoch 13/50\n",
      " - 0s - loss: 0.5187 - acc: 0.7489\n",
      "Epoch 14/50\n",
      " - 0s - loss: 0.4871 - acc: 0.7781\n",
      "Epoch 15/50\n",
      " - 0s - loss: 0.4604 - acc: 0.8025\n",
      "Epoch 16/50\n",
      " - 0s - loss: 0.4417 - acc: 0.8183\n",
      "Epoch 17/50\n",
      " - 0s - loss: 0.4347 - acc: 0.8233\n",
      "Epoch 18/50\n",
      " - 0s - loss: 0.4250 - acc: 0.8302\n",
      "Epoch 19/50\n",
      " - 0s - loss: 0.3945 - acc: 0.8556\n",
      "Epoch 20/50\n",
      " - 0s - loss: 0.3707 - acc: 0.8757\n",
      "Epoch 21/50\n",
      " - 0s - loss: 0.3603 - acc: 0.8814\n",
      "Epoch 22/50\n",
      " - 0s - loss: 0.3412 - acc: 0.8960\n",
      "Epoch 23/50\n",
      " - 0s - loss: 0.3376 - acc: 0.8973\n",
      "Epoch 24/50\n",
      " - 0s - loss: 0.3153 - acc: 0.9148\n",
      "Epoch 25/50\n",
      " - 0s - loss: 0.3087 - acc: 0.9188\n",
      "Epoch 26/50\n",
      " - 0s - loss: 0.2963 - acc: 0.9256\n",
      "Epoch 27/50\n",
      " - 0s - loss: 0.2876 - acc: 0.9319\n",
      "Epoch 28/50\n",
      " - 0s - loss: 0.2744 - acc: 0.9403\n",
      "Epoch 29/50\n",
      " - 0s - loss: 0.2700 - acc: 0.9426\n",
      "Epoch 30/50\n",
      " - 0s - loss: 0.2573 - acc: 0.9495\n",
      "Epoch 31/50\n",
      " - 0s - loss: 0.2538 - acc: 0.9511\n",
      "Epoch 32/50\n",
      " - 0s - loss: 0.2464 - acc: 0.9555\n",
      "Epoch 33/50\n",
      " - 0s - loss: 0.2473 - acc: 0.9547\n",
      "Epoch 34/50\n",
      " - 0s - loss: 0.2382 - acc: 0.9596\n",
      "Epoch 35/50\n",
      " - 0s - loss: 0.2300 - acc: 0.9636\n",
      "Epoch 36/50\n",
      " - 0s - loss: 0.2268 - acc: 0.9657\n",
      "Epoch 37/50\n",
      " - 0s - loss: 0.2210 - acc: 0.9682\n",
      "Epoch 38/50\n",
      " - 0s - loss: 0.2165 - acc: 0.9697\n",
      "Epoch 39/50\n",
      " - 0s - loss: 0.2142 - acc: 0.9709\n",
      "Epoch 40/50\n",
      " - 0s - loss: 0.2087 - acc: 0.9736\n",
      "Epoch 41/50\n",
      " - 0s - loss: 0.2074 - acc: 0.9742\n",
      "Epoch 42/50\n",
      " - 0s - loss: 0.2021 - acc: 0.9766\n",
      "Epoch 43/50\n",
      " - 0s - loss: 0.1999 - acc: 0.9777\n",
      "Epoch 44/50\n",
      " - 0s - loss: 0.1988 - acc: 0.9776\n",
      "Epoch 45/50\n",
      " - 0s - loss: 0.1977 - acc: 0.9774\n",
      "Epoch 46/50\n",
      " - 0s - loss: 0.1949 - acc: 0.9789\n",
      "Epoch 47/50\n",
      " - 0s - loss: 0.1900 - acc: 0.9811\n",
      "Epoch 48/50\n",
      " - 0s - loss: 0.1895 - acc: 0.9810\n",
      "Epoch 49/50\n",
      " - 0s - loss: 0.1885 - acc: 0.9814\n",
      "Epoch 50/50\n",
      " - 0s - loss: 0.1879 - acc: 0.9815\n"
     ]
    }
   ],
   "source": [
    "from keras.callbacks import ModelCheckpoint\n",
    "# Save check point\n",
    "filepath = \"segnet.weights.best.hdf5\"\n",
    "checkpoint = ModelCheckpoint(filepath, monitor='val_acc', verbose =1, save_best_only = True, mode ='max')\n",
    "callbacks_list= [checkpoint]\n",
    "\n",
    "nb_epoch = 50\n",
    "batch_size = 18 \n",
    "\n",
    "history = autoencoder.fit(train_data, train_label, batch_size=batch_size, nb_epoch=nb_epoch, verbose=2)\n",
    "\n",
    "\n",
    "    \n"
   ]
  },
  {
   "cell_type": "code",
   "execution_count": 11,
   "metadata": {
    "collapsed": false
   },
   "outputs": [
    {
     "ename": "OSError",
     "evalue": "Unable to open file (file signature not found)",
     "output_type": "error",
     "traceback": [
      "\u001b[0;31m---------------------------------------------------------------------------\u001b[0m",
      "\u001b[0;31mOSError\u001b[0m                                   Traceback (most recent call last)",
      "\u001b[0;32m<ipython-input-11-77189440cfab>\u001b[0m in \u001b[0;36m<module>\u001b[0;34m()\u001b[0m\n\u001b[0;32m----> 1\u001b[0;31m \u001b[0mautoencoder\u001b[0m\u001b[1;33m.\u001b[0m\u001b[0mload_weights\u001b[0m\u001b[1;33m(\u001b[0m\u001b[1;34m'model_5l_weight_ep50.hdf5'\u001b[0m\u001b[1;33m)\u001b[0m\u001b[1;33m\u001b[0m\u001b[0m\n\u001b[0m",
      "\u001b[0;32mC:\\Users\\hoanganh\\Anaconda3\\lib\\site-packages\\keras\\models.py\u001b[0m in \u001b[0;36mload_weights\u001b[0;34m(self, filepath, by_name, skip_mismatch, reshape)\u001b[0m\n\u001b[1;32m    722\u001b[0m         \u001b[1;32mif\u001b[0m \u001b[0mh5py\u001b[0m \u001b[1;32mis\u001b[0m \u001b[1;32mNone\u001b[0m\u001b[1;33m:\u001b[0m\u001b[1;33m\u001b[0m\u001b[0m\n\u001b[1;32m    723\u001b[0m             \u001b[1;32mraise\u001b[0m \u001b[0mImportError\u001b[0m\u001b[1;33m(\u001b[0m\u001b[1;34m'`load_weights` requires h5py.'\u001b[0m\u001b[1;33m)\u001b[0m\u001b[1;33m\u001b[0m\u001b[0m\n\u001b[0;32m--> 724\u001b[0;31m         \u001b[1;32mwith\u001b[0m \u001b[0mh5py\u001b[0m\u001b[1;33m.\u001b[0m\u001b[0mFile\u001b[0m\u001b[1;33m(\u001b[0m\u001b[0mfilepath\u001b[0m\u001b[1;33m,\u001b[0m \u001b[0mmode\u001b[0m\u001b[1;33m=\u001b[0m\u001b[1;34m'r'\u001b[0m\u001b[1;33m)\u001b[0m \u001b[1;32mas\u001b[0m \u001b[0mf\u001b[0m\u001b[1;33m:\u001b[0m\u001b[1;33m\u001b[0m\u001b[0m\n\u001b[0m\u001b[1;32m    725\u001b[0m             \u001b[1;32mif\u001b[0m \u001b[1;34m'layer_names'\u001b[0m \u001b[1;32mnot\u001b[0m \u001b[1;32min\u001b[0m \u001b[0mf\u001b[0m\u001b[1;33m.\u001b[0m\u001b[0mattrs\u001b[0m \u001b[1;32mand\u001b[0m \u001b[1;34m'model_weights'\u001b[0m \u001b[1;32min\u001b[0m \u001b[0mf\u001b[0m\u001b[1;33m:\u001b[0m\u001b[1;33m\u001b[0m\u001b[0m\n\u001b[1;32m    726\u001b[0m                 \u001b[0mf\u001b[0m \u001b[1;33m=\u001b[0m \u001b[0mf\u001b[0m\u001b[1;33m[\u001b[0m\u001b[1;34m'model_weights'\u001b[0m\u001b[1;33m]\u001b[0m\u001b[1;33m\u001b[0m\u001b[0m\n",
      "\u001b[0;32mC:\\Users\\hoanganh\\Anaconda3\\lib\\site-packages\\h5py\\_hl\\files.py\u001b[0m in \u001b[0;36m__init__\u001b[0;34m(self, name, mode, driver, libver, userblock_size, swmr, **kwds)\u001b[0m\n\u001b[1;32m    267\u001b[0m             \u001b[1;32mwith\u001b[0m \u001b[0mphil\u001b[0m\u001b[1;33m:\u001b[0m\u001b[1;33m\u001b[0m\u001b[0m\n\u001b[1;32m    268\u001b[0m                 \u001b[0mfapl\u001b[0m \u001b[1;33m=\u001b[0m \u001b[0mmake_fapl\u001b[0m\u001b[1;33m(\u001b[0m\u001b[0mdriver\u001b[0m\u001b[1;33m,\u001b[0m \u001b[0mlibver\u001b[0m\u001b[1;33m,\u001b[0m \u001b[1;33m**\u001b[0m\u001b[0mkwds\u001b[0m\u001b[1;33m)\u001b[0m\u001b[1;33m\u001b[0m\u001b[0m\n\u001b[0;32m--> 269\u001b[0;31m                 \u001b[0mfid\u001b[0m \u001b[1;33m=\u001b[0m \u001b[0mmake_fid\u001b[0m\u001b[1;33m(\u001b[0m\u001b[0mname\u001b[0m\u001b[1;33m,\u001b[0m \u001b[0mmode\u001b[0m\u001b[1;33m,\u001b[0m \u001b[0muserblock_size\u001b[0m\u001b[1;33m,\u001b[0m \u001b[0mfapl\u001b[0m\u001b[1;33m,\u001b[0m \u001b[0mswmr\u001b[0m\u001b[1;33m=\u001b[0m\u001b[0mswmr\u001b[0m\u001b[1;33m)\u001b[0m\u001b[1;33m\u001b[0m\u001b[0m\n\u001b[0m\u001b[1;32m    270\u001b[0m \u001b[1;33m\u001b[0m\u001b[0m\n\u001b[1;32m    271\u001b[0m                 \u001b[1;32mif\u001b[0m \u001b[0mswmr_support\u001b[0m\u001b[1;33m:\u001b[0m\u001b[1;33m\u001b[0m\u001b[0m\n",
      "\u001b[0;32mC:\\Users\\hoanganh\\Anaconda3\\lib\\site-packages\\h5py\\_hl\\files.py\u001b[0m in \u001b[0;36mmake_fid\u001b[0;34m(name, mode, userblock_size, fapl, fcpl, swmr)\u001b[0m\n\u001b[1;32m     97\u001b[0m         \u001b[1;32mif\u001b[0m \u001b[0mswmr\u001b[0m \u001b[1;32mand\u001b[0m \u001b[0mswmr_support\u001b[0m\u001b[1;33m:\u001b[0m\u001b[1;33m\u001b[0m\u001b[0m\n\u001b[1;32m     98\u001b[0m             \u001b[0mflags\u001b[0m \u001b[1;33m|=\u001b[0m \u001b[0mh5f\u001b[0m\u001b[1;33m.\u001b[0m\u001b[0mACC_SWMR_READ\u001b[0m\u001b[1;33m\u001b[0m\u001b[0m\n\u001b[0;32m---> 99\u001b[0;31m         \u001b[0mfid\u001b[0m \u001b[1;33m=\u001b[0m \u001b[0mh5f\u001b[0m\u001b[1;33m.\u001b[0m\u001b[0mopen\u001b[0m\u001b[1;33m(\u001b[0m\u001b[0mname\u001b[0m\u001b[1;33m,\u001b[0m \u001b[0mflags\u001b[0m\u001b[1;33m,\u001b[0m \u001b[0mfapl\u001b[0m\u001b[1;33m=\u001b[0m\u001b[0mfapl\u001b[0m\u001b[1;33m)\u001b[0m\u001b[1;33m\u001b[0m\u001b[0m\n\u001b[0m\u001b[1;32m    100\u001b[0m     \u001b[1;32melif\u001b[0m \u001b[0mmode\u001b[0m \u001b[1;33m==\u001b[0m \u001b[1;34m'r+'\u001b[0m\u001b[1;33m:\u001b[0m\u001b[1;33m\u001b[0m\u001b[0m\n\u001b[1;32m    101\u001b[0m         \u001b[0mfid\u001b[0m \u001b[1;33m=\u001b[0m \u001b[0mh5f\u001b[0m\u001b[1;33m.\u001b[0m\u001b[0mopen\u001b[0m\u001b[1;33m(\u001b[0m\u001b[0mname\u001b[0m\u001b[1;33m,\u001b[0m \u001b[0mh5f\u001b[0m\u001b[1;33m.\u001b[0m\u001b[0mACC_RDWR\u001b[0m\u001b[1;33m,\u001b[0m \u001b[0mfapl\u001b[0m\u001b[1;33m=\u001b[0m\u001b[0mfapl\u001b[0m\u001b[1;33m)\u001b[0m\u001b[1;33m\u001b[0m\u001b[0m\n",
      "\u001b[0;32mh5py\\_objects.pyx\u001b[0m in \u001b[0;36mh5py._objects.with_phil.wrapper\u001b[0;34m()\u001b[0m\n",
      "\u001b[0;32mh5py\\_objects.pyx\u001b[0m in \u001b[0;36mh5py._objects.with_phil.wrapper\u001b[0;34m()\u001b[0m\n",
      "\u001b[0;32mh5py\\h5f.pyx\u001b[0m in \u001b[0;36mh5py.h5f.open\u001b[0;34m()\u001b[0m\n",
      "\u001b[0;31mOSError\u001b[0m: Unable to open file (file signature not found)"
     ]
    }
   ],
   "source": [
    "autoencoder.load_weights('model_5l_weight_ep50.hdf5')"
   ]
  },
  {
   "cell_type": "code",
   "execution_count": null,
   "metadata": {
    "collapsed": false
   },
   "outputs": [],
   "source": [
    "# from keras.utils.visualize_util import plot\n",
    "# plot(autoencoder, to_file='model.png',autoencoder)\n",
    "\n",
    "from keras.utils import plot_model\n",
    "plot_model(autoencoder, to_file='model.png')\n",
    "\n"
   ]
  },
  {
   "cell_type": "code",
   "execution_count": null,
   "metadata": {
    "collapsed": false
   },
   "outputs": [],
   "source": [
    "test_data, test_label = prep_data('test')"
   ]
  },
  {
   "cell_type": "code",
   "execution_count": null,
   "metadata": {
    "collapsed": false
   },
   "outputs": [],
   "source": [
    "score = autoencoder.evaluate(test_data, test_label, verbose=0)\n",
    "print('Test score:', score[0])\n",
    "\n",
    "print('Test accuracy:', score[1])"
   ]
  },
  {
   "cell_type": "code",
   "execution_count": null,
   "metadata": {
    "collapsed": false
   },
   "outputs": [],
   "source": [
    "output = autoencoder.predict_proba(test_data, verbose=0)\n",
    "output = output.reshape((output.shape[0], img_h, img_w, n_labels))\n",
    "\n",
    "plot_results(output)"
   ]
  },
  {
   "cell_type": "code",
   "execution_count": null,
   "metadata": {
    "collapsed": true
   },
   "outputs": [],
   "source": []
  }
 ],
 "metadata": {
  "anaconda-cloud": {},
  "kernelspec": {
   "display_name": "Python [conda env:Anaconda3]",
   "language": "python",
   "name": "conda-env-Anaconda3-py"
  },
  "language_info": {
   "codemirror_mode": {
    "name": "ipython",
    "version": 3
   },
   "file_extension": ".py",
   "mimetype": "text/x-python",
   "name": "python",
   "nbconvert_exporter": "python",
   "pygments_lexer": "ipython3",
   "version": "3.5.2"
  }
 },
 "nbformat": 4,
 "nbformat_minor": 1
}
